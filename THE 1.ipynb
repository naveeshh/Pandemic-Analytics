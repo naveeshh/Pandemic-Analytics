{
 "cells": [
  {
   "cell_type": "markdown",
   "metadata": {},
   "source": [
    "# TAKE HOME EXERCISE 1"
   ]
  },
  {
   "cell_type": "markdown",
   "metadata": {},
   "source": [
    "### Creating in Lists"
   ]
  },
  {
   "cell_type": "code",
   "execution_count": 9,
   "metadata": {},
   "outputs": [],
   "source": [
    "states_list = [\"Maharashtra\",\"Tamil Nadu\",\"Delhi\",\"Gujarat\",\"Uttar Pradesh\",\"West Bengal\",\"Rajasthan\",\"Telengana\",\"Karnataka\",\"Andhra Pradesh\",\"Haryana\",\"Madhya Pradesh\",\"Bihar\",\"Assam\",\"Jammu and Kashmir\",\"Odisha\",\"Punjab\",\"Kerala\",\"Chhattisgarh\",\"Uttarakhand\",\"Jharkhand\",\"Goa\",\"Tripura\",\"Manipur\",\"Himachal Pradesh\",\"Ladakh\",\"Puducherry\",\"Nagaland\",\"Chandigarh\",\"Dadra and Nagar Haveli\",\"Arunachal Pradesh\",\"Mizoram\",\"Andaman and Nicobar\",\"Sikkim\",\"Meghalaya\",\"Lakshadweep\"]\n",
    "infected_list = [186626,98392,92175,33913,24825,19819,18662,18570,18016,16097,15509,14106,10471,9013,7849,7545,5784,4753,3013,2984,2584,1482,1435,1279,1014,990,802,501,450,230,195,162,109,102,56,0]"
   ]
  },
  {
   "cell_type": "code",
   "execution_count": 10,
   "metadata": {},
   "outputs": [
    {
     "name": "stdout",
     "output_type": "stream",
     "text": [
      "COVID 19 infected victim state-wise in India using List!\n",
      "\n",
      "Maharashtra : 186626\n",
      "Tamil Nadu : 98392\n",
      "Delhi : 92175\n",
      "Gujarat : 33913\n",
      "Uttar Pradesh : 24825\n",
      "West Bengal : 19819\n",
      "Rajasthan : 18662\n",
      "Telengana : 18570\n",
      "Karnataka : 18016\n",
      "Andhra Pradesh : 16097\n",
      "Haryana : 15509\n",
      "Madhya Pradesh : 14106\n",
      "Bihar : 10471\n",
      "Assam : 9013\n",
      "Jammu and Kashmir : 7849\n",
      "Odisha : 7545\n",
      "Punjab : 5784\n",
      "Kerala : 4753\n",
      "Chhattisgarh : 3013\n",
      "Uttarakhand : 2984\n",
      "Jharkhand : 2584\n",
      "Goa : 1482\n",
      "Tripura : 1435\n",
      "Manipur : 1279\n",
      "Himachal Pradesh : 1014\n",
      "Ladakh : 990\n",
      "Puducherry : 802\n",
      "Nagaland : 501\n",
      "Chandigarh : 450\n",
      "Dadra and Nagar Haveli : 230\n",
      "Arunachal Pradesh : 195\n",
      "Mizoram : 162\n",
      "Andaman and Nicobar : 109\n",
      "Sikkim : 102\n",
      "Meghalaya : 56\n",
      "Lakshadweep : 0\n",
      "\n",
      "Total number of States & Union-Territory in India: 36\n",
      "\n",
      "Total number of COVID-19 Infected: 619513\n",
      "\n"
     ]
    }
   ],
   "source": [
    "print(\"COVID 19 infected victim state-wise in India using List!\\n\")\n",
    "\n",
    "for i in range(len(states_list)):\n",
    "    print(states_list[i],\":\",infected_list[i])\n",
    "    \n",
    "print(\"\")\n",
    "print(\"Total number of States & Union-Territory in India: {}\\n\".format(len(states_list)))\n",
    "print(\"Total number of COVID-19 Infected: {}\\n\".format(sum(infected_list)))"
   ]
  },
  {
   "cell_type": "markdown",
   "metadata": {},
   "source": [
    "### Creating in Tuples"
   ]
  },
  {
   "cell_type": "code",
   "execution_count": 11,
   "metadata": {},
   "outputs": [],
   "source": [
    "states_tuple = (\"Maharashtra\",\"Tamil Nadu\",\"Delhi\",\"Gujarat\",\"Uttar Pradesh\",\"West Bengal\",\"Rajasthan\",\"Telengana\",\"Karnataka\",\"Andhra Pradesh\",\"Haryana\",\"Madhya Pradesh\",\"Bihar\",\"Assam\",\"Jammu and Kashmir\",\"Odisha\",\"Punjab\",\"Kerala\",\"Chhattisgarh\",\"Uttarakhand\",\"Jharkhand\",\"Goa\",\"Tripura\",\"Manipur\",\"Himachal Pradesh\",\"Ladakh\",\"Puducherry\",\"Nagaland\",\"Chandigarh\",\"Dadra and Nagar Haveli\",\"Arunachal Pradesh\",\"Mizoram\",\"Andaman and Nicobar\",\"Sikkim\",\"Meghalaya\",\"Lakshadweep\")\n",
    "infected_tuple = (186626,98392,92175,33913,24825,19819,18662,18570,18016,16097,15509,14106,10471,9013,7849,7545,5784,4753,3013,2984,2584,1482,1435,1279,1014,990,802,501,450,230,195,162,109,102,56,0)"
   ]
  },
  {
   "cell_type": "code",
   "execution_count": 12,
   "metadata": {},
   "outputs": [
    {
     "name": "stdout",
     "output_type": "stream",
     "text": [
      "COVID 19 infected victim state-wise in India using tuple!\n",
      "\n",
      "Maharashtra : 186626\n",
      "Tamil Nadu : 98392\n",
      "Delhi : 92175\n",
      "Gujarat : 33913\n",
      "Uttar Pradesh : 24825\n",
      "West Bengal : 19819\n",
      "Rajasthan : 18662\n",
      "Telengana : 18570\n",
      "Karnataka : 18016\n",
      "Andhra Pradesh : 16097\n",
      "Haryana : 15509\n",
      "Madhya Pradesh : 14106\n",
      "Bihar : 10471\n",
      "Assam : 9013\n",
      "Jammu and Kashmir : 7849\n",
      "Odisha : 7545\n",
      "Punjab : 5784\n",
      "Kerala : 4753\n",
      "Chhattisgarh : 3013\n",
      "Uttarakhand : 2984\n",
      "Jharkhand : 2584\n",
      "Goa : 1482\n",
      "Tripura : 1435\n",
      "Manipur : 1279\n",
      "Himachal Pradesh : 1014\n",
      "Ladakh : 990\n",
      "Puducherry : 802\n",
      "Nagaland : 501\n",
      "Chandigarh : 450\n",
      "Dadra and Nagar Haveli : 230\n",
      "Arunachal Pradesh : 195\n",
      "Mizoram : 162\n",
      "Andaman and Nicobar : 109\n",
      "Sikkim : 102\n",
      "Meghalaya : 56\n",
      "Lakshadweep : 0\n",
      "\n",
      "Total number of States & Union-Territory in India: 36\n",
      "\n",
      "Total number of COVID-19 Infected: 619513\n",
      "\n"
     ]
    }
   ],
   "source": [
    "print(\"COVID 19 infected victim state-wise in India using tuple!\\n\")\n",
    "\n",
    "for i in range(len(states_tuple)):\n",
    "    print(states_tuple[i],\":\",infected_tuple[i])\n",
    "    \n",
    "print(\"\")\n",
    "print(\"Total number of States & Union-Territory in India: {}\\n\".format(len(states_tuple)))\n",
    "print(\"Total number of COVID-19 Infected: {}\\n\".format(sum(infected_tuple)))"
   ]
  },
  {
   "cell_type": "markdown",
   "metadata": {},
   "source": [
    "### Creating in Dict"
   ]
  },
  {
   "cell_type": "code",
   "execution_count": 13,
   "metadata": {},
   "outputs": [],
   "source": [
    "data_dict = {\"Maharashtra\":186626,\"Tamil Nadu\":98392,\"Delhi\":92175,\"Gujarat\":33913,\"Uttar Pradesh\":24825,\"West Bengal\":19819,\"Rajasthan\":18662,\"Telengana\":18570,\"Karnataka\":18016,\"Andhra Pradesh\":16097,\"Haryana\":15509,\"Madhya Pradesh\":14106,\"Bihar\":10471,\"Assam\":9013,\"Jammu and Kashmir\":7849,\"Odisha\":7545,\"Punjab\":5784,\"Kerala\":4753,\"Chhattisgarh\":3013,\"Uttarakhand\":2984,\"Jharkhand\":2584,\"Goa\":1482,\"Tripura\":1435,\"Manipur\":1279,\"Himachal Pradesh\":1014,\"Ladakh\":990,\"Puducherry\":802,\"Nagaland\":501,\"Chandigarh\":450,\"Dadra and Nagar Haveli\":230,\"Arunachal Pradesh\":195,\"Mizoram\":162,\"Andaman and Nicobar\":109,\"Sikkim\":102,\"Meghalaya\":56,\"Lakshadweep\":0}"
   ]
  },
  {
   "cell_type": "code",
   "execution_count": 14,
   "metadata": {},
   "outputs": [
    {
     "name": "stdout",
     "output_type": "stream",
     "text": [
      "COVID 19 infected victim state-wise in India using dictionary!\n",
      "\n",
      "Maharashtra : 186626\n",
      "Tamil Nadu : 98392\n",
      "Delhi : 92175\n",
      "Gujarat : 33913\n",
      "Uttar Pradesh : 24825\n",
      "West Bengal : 19819\n",
      "Rajasthan : 18662\n",
      "Telengana : 18570\n",
      "Karnataka : 18016\n",
      "Andhra Pradesh : 16097\n",
      "Haryana : 15509\n",
      "Madhya Pradesh : 14106\n",
      "Bihar : 10471\n",
      "Assam : 9013\n",
      "Jammu and Kashmir : 7849\n",
      "Odisha : 7545\n",
      "Punjab : 5784\n",
      "Kerala : 4753\n",
      "Chhattisgarh : 3013\n",
      "Uttarakhand : 2984\n",
      "Jharkhand : 2584\n",
      "Goa : 1482\n",
      "Tripura : 1435\n",
      "Manipur : 1279\n",
      "Himachal Pradesh : 1014\n",
      "Ladakh : 990\n",
      "Puducherry : 802\n",
      "Nagaland : 501\n",
      "Chandigarh : 450\n",
      "Dadra and Nagar Haveli : 230\n",
      "Arunachal Pradesh : 195\n",
      "Mizoram : 162\n",
      "Andaman and Nicobar : 109\n",
      "Sikkim : 102\n",
      "Meghalaya : 56\n",
      "Lakshadweep : 0\n",
      "\n",
      "Total number of States & Union-Territory in India: 36\n",
      "\n",
      "Total number of COVID-19 Infected: 619513\n",
      "\n"
     ]
    }
   ],
   "source": [
    "\n",
    "print(\"COVID 19 infected victim state-wise in India using dictionary!\\n\")\n",
    "\n",
    "for i,j in data_dict.items():\n",
    "    print(i,\":\",j)\n",
    "    \n",
    "print(\"\")\n",
    "print(\"Total number of States & Union-Territory in India: {}\\n\".format(len(data_dict.keys())))\n",
    "print(\"Total number of COVID-19 Infected: {}\\n\".format(sum(data_dict.values())))"
   ]
  },
  {
   "cell_type": "code",
   "execution_count": null,
   "metadata": {},
   "outputs": [],
   "source": []
  },
  {
   "cell_type": "code",
   "execution_count": null,
   "metadata": {},
   "outputs": [],
   "source": []
  }
 ],
 "metadata": {
  "kernelspec": {
   "display_name": "Python 3",
   "language": "python",
   "name": "python3"
  },
  "language_info": {
   "codemirror_mode": {
    "name": "ipython",
    "version": 3
   },
   "file_extension": ".py",
   "mimetype": "text/x-python",
   "name": "python",
   "nbconvert_exporter": "python",
   "pygments_lexer": "ipython3",
   "version": "3.7.1"
  }
 },
 "nbformat": 4,
 "nbformat_minor": 2
}
